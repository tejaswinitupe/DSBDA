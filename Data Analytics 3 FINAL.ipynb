{
 "cells": [
  {
   "cell_type": "code",
   "execution_count": 1,
   "id": "c09bcf34",
   "metadata": {},
   "outputs": [],
   "source": [
    "import pandas as pd\n",
    "import numpy as np\n",
    "import seaborn as sns\n",
    "from sklearn.model_selection import train_test_split"
   ]
  },
  {
   "cell_type": "code",
   "execution_count": 2,
   "id": "3869da9b",
   "metadata": {},
   "outputs": [],
   "source": [
    "data=sns.load_dataset('iris')"
   ]
  },
  {
   "cell_type": "code",
   "execution_count": 3,
   "id": "f8ed3df7",
   "metadata": {},
   "outputs": [
    {
     "data": {
      "text/html": [
       "<div>\n",
       "<style scoped>\n",
       "    .dataframe tbody tr th:only-of-type {\n",
       "        vertical-align: middle;\n",
       "    }\n",
       "\n",
       "    .dataframe tbody tr th {\n",
       "        vertical-align: top;\n",
       "    }\n",
       "\n",
       "    .dataframe thead th {\n",
       "        text-align: right;\n",
       "    }\n",
       "</style>\n",
       "<table border=\"1\" class=\"dataframe\">\n",
       "  <thead>\n",
       "    <tr style=\"text-align: right;\">\n",
       "      <th></th>\n",
       "      <th>sepal_length</th>\n",
       "      <th>sepal_width</th>\n",
       "      <th>petal_length</th>\n",
       "      <th>petal_width</th>\n",
       "      <th>species</th>\n",
       "    </tr>\n",
       "  </thead>\n",
       "  <tbody>\n",
       "    <tr>\n",
       "      <th>0</th>\n",
       "      <td>5.1</td>\n",
       "      <td>3.5</td>\n",
       "      <td>1.4</td>\n",
       "      <td>0.2</td>\n",
       "      <td>setosa</td>\n",
       "    </tr>\n",
       "    <tr>\n",
       "      <th>1</th>\n",
       "      <td>4.9</td>\n",
       "      <td>3.0</td>\n",
       "      <td>1.4</td>\n",
       "      <td>0.2</td>\n",
       "      <td>setosa</td>\n",
       "    </tr>\n",
       "    <tr>\n",
       "      <th>2</th>\n",
       "      <td>4.7</td>\n",
       "      <td>3.2</td>\n",
       "      <td>1.3</td>\n",
       "      <td>0.2</td>\n",
       "      <td>setosa</td>\n",
       "    </tr>\n",
       "    <tr>\n",
       "      <th>3</th>\n",
       "      <td>4.6</td>\n",
       "      <td>3.1</td>\n",
       "      <td>1.5</td>\n",
       "      <td>0.2</td>\n",
       "      <td>setosa</td>\n",
       "    </tr>\n",
       "    <tr>\n",
       "      <th>4</th>\n",
       "      <td>5.0</td>\n",
       "      <td>3.6</td>\n",
       "      <td>1.4</td>\n",
       "      <td>0.2</td>\n",
       "      <td>setosa</td>\n",
       "    </tr>\n",
       "  </tbody>\n",
       "</table>\n",
       "</div>"
      ],
      "text/plain": [
       "   sepal_length  sepal_width  petal_length  petal_width species\n",
       "0           5.1          3.5           1.4          0.2  setosa\n",
       "1           4.9          3.0           1.4          0.2  setosa\n",
       "2           4.7          3.2           1.3          0.2  setosa\n",
       "3           4.6          3.1           1.5          0.2  setosa\n",
       "4           5.0          3.6           1.4          0.2  setosa"
      ]
     },
     "execution_count": 3,
     "metadata": {},
     "output_type": "execute_result"
    }
   ],
   "source": [
    "data.head()"
   ]
  },
  {
   "cell_type": "code",
   "execution_count": 4,
   "id": "226df856",
   "metadata": {},
   "outputs": [],
   "source": [
    "df_x=features=data[['sepal_length','sepal_width' , 'petal_length','petal_width']]\n",
    "df_y=target=data['species']"
   ]
  },
  {
   "cell_type": "code",
   "execution_count": 5,
   "id": "f993f835",
   "metadata": {},
   "outputs": [],
   "source": [
    "x_train , x_test , y_train , y_test= train_test_split(df_x,df_y,test_size=0.33 , random_state=42)"
   ]
  },
  {
   "cell_type": "code",
   "execution_count": 6,
   "id": "ca79a609",
   "metadata": {},
   "outputs": [],
   "source": [
    "from sklearn.preprocessing import StandardScaler\n",
    "sc=StandardScaler()\n",
    "x_train=sc.fit_transform(x_train)\n",
    "x_test=sc.transform(x_test)"
   ]
  },
  {
   "cell_type": "code",
   "execution_count": 7,
   "id": "af75283a",
   "metadata": {},
   "outputs": [
    {
     "data": {
      "text/plain": [
       "array([[-0.13835603, -0.26550845,  0.22229072,  0.10894943],\n",
       "       [ 2.14752625, -0.02631165,  1.61160773,  1.18499319],\n",
       "       [-0.25866563, -0.02631165,  0.39595535,  0.37796037],\n",
       "       [-0.8602136 ,  1.16967238, -1.39857913, -1.37061074],\n",
       "       [ 2.26783585, -0.50470526,  1.66949594,  1.05048772],\n",
       "       [-0.01804644, -0.74390206,  0.16440251, -0.29456698],\n",
       "       [-0.739904  ,  0.93047557, -1.39857913, -1.37061074],\n",
       "       [-0.98052319,  1.16967238, -1.45646733, -1.23610527],\n",
       "       [-0.8602136 ,  1.88726279, -1.10913808, -1.1015998 ],\n",
       "       [-0.98052319, -2.4182797 , -0.18292674, -0.29456698],\n",
       "       [ 0.58350153, -0.74390206,  0.62750818,  0.78147678],\n",
       "       [-1.22114238,  0.93047557, -1.10913808, -1.37061074],\n",
       "       [-0.98052319, -0.02631165, -1.28280271, -1.37061074],\n",
       "       [-0.8602136 ,  0.69127877, -1.2249145 , -0.96709433],\n",
       "       [-0.25866563, -0.74390206,  0.22229072,  0.10894943],\n",
       "       [-0.8602136 ,  0.93047557, -1.34069092, -1.37061074],\n",
       "       [-0.13835603, -0.02631165,  0.22229072, -0.02555604],\n",
       "       [ 2.26783585,  1.88726279,  1.66949594,  1.31949866],\n",
       "       [-1.46176157,  0.45208196, -1.39857913, -1.37061074],\n",
       "       [ 0.46319194, -0.26550845,  0.28017893,  0.10894943],\n",
       "       [-0.13835603, -1.22229567,  0.68539639,  1.05048772],\n",
       "       [-0.37897522,  2.84405001, -1.39857913, -1.37061074],\n",
       "       [ 0.22257275, -0.02631165,  0.56961997,  0.78147678],\n",
       "       [-0.01804644, -0.74390206,  0.7432846 ,  0.91598225],\n",
       "       [ 0.22257275, -1.93988609,  0.1065143 , -0.29456698],\n",
       "       [-0.49928482, -0.02631165,  0.39595535,  0.37796037],\n",
       "       [ 0.46319194,  0.93047557,  0.91694923,  1.45400413],\n",
       "       [-0.37897522, -1.70068929,  0.1065143 ,  0.10894943],\n",
       "       [-0.49928482,  2.1264596 , -1.2249145 , -1.1015998 ],\n",
       "       [-0.98052319, -1.70068929, -0.29870316, -0.29456698],\n",
       "       [ 0.70381112, -0.74390206,  0.85906102,  0.91598225],\n",
       "       [-0.98052319,  0.69127877, -1.39857913, -1.37061074],\n",
       "       [-0.98052319,  0.45208196, -1.51435554, -1.37061074],\n",
       "       [-0.37897522, -1.46149248, -0.00926211, -0.16006151],\n",
       "       [ 1.06473991, -0.02631165,  0.68539639,  0.64697131],\n",
       "       [-1.10083279,  0.21288516, -1.34069092, -1.37061074],\n",
       "       [-0.01804644, -0.50470526,  0.7432846 ,  1.5885096 ],\n",
       "       [-0.98052319,  0.93047557, -1.34069092, -1.37061074],\n",
       "       [-0.98052319,  1.16967238, -1.28280271, -0.83258886],\n",
       "       [ 0.10226315,  0.45208196,  0.56961997,  0.78147678],\n",
       "       [-0.8602136 , -1.22229567, -0.47236778, -0.16006151],\n",
       "       [ 1.30535909,  0.45208196,  1.09061385,  1.45400413],\n",
       "       [ 0.22257275, -0.74390206,  0.7432846 ,  0.51246584],\n",
       "       [ 0.34288234, -0.98309887,  1.03272565,  0.2434549 ],\n",
       "       [ 2.26783585, -0.02631165,  1.32216669,  1.45400413],\n",
       "       [-0.37897522, -1.22229567,  0.1065143 ,  0.10894943],\n",
       "       [-1.70238076, -0.26550845, -1.39857913, -1.37061074],\n",
       "       [-1.82269035, -0.02631165, -1.57224375, -1.50511621],\n",
       "       [ 0.22257275, -1.93988609,  0.68539639,  0.37796037],\n",
       "       [ 1.66628788,  0.45208196,  1.26427848,  0.78147678],\n",
       "       [-1.46176157,  0.21288516, -1.34069092, -1.37061074],\n",
       "       [-0.8602136 ,  1.16967238, -1.39857913, -1.23610527],\n",
       "       [-1.70238076, -0.02631165, -1.45646733, -1.37061074],\n",
       "       [ 0.58350153, -1.22229567,  0.62750818,  0.37796037],\n",
       "       [ 0.58350153,  0.93047557,  1.03272565,  1.5885096 ],\n",
       "       [-1.46176157,  0.93047557, -1.39857913, -1.23610527],\n",
       "       [ 1.1850495 , -0.02631165,  0.97483744,  1.18499319],\n",
       "       [ 0.58350153,  0.69127877,  1.26427848,  1.72301507],\n",
       "       [-1.34145197,  0.45208196, -1.45646733, -1.37061074],\n",
       "       [ 0.34288234, -0.26550845,  0.51173177,  0.2434549 ],\n",
       "       [ 0.82412072, -0.50470526,  0.45384356,  0.37796037],\n",
       "       [ 0.46319194, -0.50470526,  0.56961997,  0.78147678],\n",
       "       [ 1.42566869,  0.45208196,  0.51173177,  0.2434549 ],\n",
       "       [ 0.70381112,  0.45208196,  0.85906102,  1.45400413],\n",
       "       [-0.8602136 ,  1.88726279, -1.28280271, -1.37061074],\n",
       "       [ 1.30535909,  0.21288516,  0.91694923,  1.18499319],\n",
       "       [ 0.10226315, -0.02631165,  0.22229072,  0.37796037],\n",
       "       [ 0.82412072, -0.02631165,  0.80117281,  1.05048772],\n",
       "       [-0.13835603, -0.98309887, -0.18292674, -0.29456698],\n",
       "       [-0.739904  , -0.74390206,  0.0486261 ,  0.2434549 ],\n",
       "       [ 0.34288234, -0.02631165,  0.45384356,  0.2434549 ],\n",
       "       [-1.58207116, -1.70068929, -1.45646733, -1.23610527],\n",
       "       [ 0.94443031, -0.26550845,  0.45384356,  0.10894943],\n",
       "       [-0.37897522, -0.98309887,  0.33806714, -0.02555604],\n",
       "       [-0.61959441,  1.64806599, -1.34069092, -1.37061074],\n",
       "       [-0.25866563, -0.02631165,  0.16440251,  0.10894943],\n",
       "       [ 1.78659747, -0.26550845,  1.43794311,  0.78147678],\n",
       "       [ 1.06473991,  0.69127877,  1.09061385,  1.18499319],\n",
       "       [-0.8602136 ,  1.64806599, -1.34069092, -1.1015998 ],\n",
       "       [-1.10083279, -1.46149248, -0.29870316, -0.29456698],\n",
       "       [ 1.06473991,  0.69127877,  1.09061385,  1.72301507],\n",
       "       [ 1.66628788, -0.02631165,  1.14850206,  0.51246584],\n",
       "       [-1.10083279,  1.40886918, -1.39857913, -1.50511621],\n",
       "       [ 1.06473991,  0.21288516,  1.03272565,  1.5885096 ],\n",
       "       [-1.10083279, -0.02631165, -1.39857913, -1.37061074],\n",
       "       [ 1.30535909,  0.21288516,  0.62750818,  0.37796037],\n",
       "       [ 1.90690706, -0.50470526,  1.32216669,  0.91598225],\n",
       "       [ 0.58350153, -0.26550845,  1.03272565,  0.78147678],\n",
       "       [-0.13835603, -0.50470526,  0.16440251,  0.10894943],\n",
       "       [ 0.82412072, -0.02631165,  0.97483744,  0.78147678],\n",
       "       [ 0.58350153, -1.70068929,  0.33806714,  0.10894943],\n",
       "       [ 0.70381112, -0.26550845,  0.28017893,  0.10894943],\n",
       "       [-0.25866563, -0.50470526,  0.62750818,  1.05048772],\n",
       "       [ 0.10226315, -0.02631165,  0.7432846 ,  0.78147678],\n",
       "       [-0.49928482,  0.93047557, -1.2249145 , -1.37061074],\n",
       "       [ 0.34288234, -0.50470526,  0.1065143 ,  0.10894943],\n",
       "       [-1.10083279, -1.22229567,  0.39595535,  0.64697131],\n",
       "       [-0.01804644,  2.3656564 , -1.51435554, -1.37061074],\n",
       "       [-0.01804644, -0.98309887,  0.1065143 , -0.02555604],\n",
       "       [ 1.54597828, -0.02631165,  1.20639027,  1.18499319]])"
      ]
     },
     "execution_count": 7,
     "metadata": {},
     "output_type": "execute_result"
    }
   ],
   "source": [
    "x_train"
   ]
  },
  {
   "cell_type": "code",
   "execution_count": 8,
   "id": "02f82bdc",
   "metadata": {},
   "outputs": [
    {
     "data": {
      "text/plain": [
       "GaussianNB()"
      ]
     },
     "execution_count": 8,
     "metadata": {},
     "output_type": "execute_result"
    }
   ],
   "source": [
    "from sklearn.naive_bayes import GaussianNB\n",
    "nvclassifier=GaussianNB()\n",
    "nvclassifier.fit(x_train,y_train)"
   ]
  },
  {
   "cell_type": "code",
   "execution_count": 9,
   "id": "da465506",
   "metadata": {},
   "outputs": [
    {
     "name": "stdout",
     "output_type": "stream",
     "text": [
      "['versicolor' 'setosa' 'virginica' 'versicolor' 'versicolor' 'setosa'\n",
      " 'versicolor' 'virginica' 'versicolor' 'versicolor' 'virginica' 'setosa'\n",
      " 'setosa' 'setosa' 'setosa' 'virginica' 'virginica' 'versicolor'\n",
      " 'versicolor' 'virginica' 'setosa' 'virginica' 'setosa' 'virginica'\n",
      " 'virginica' 'virginica' 'virginica' 'virginica' 'setosa' 'setosa'\n",
      " 'setosa' 'setosa' 'versicolor' 'setosa' 'setosa' 'virginica' 'versicolor'\n",
      " 'setosa' 'setosa' 'setosa' 'virginica' 'versicolor' 'versicolor' 'setosa'\n",
      " 'setosa' 'versicolor' 'versicolor' 'virginica' 'versicolor' 'virginica']\n"
     ]
    }
   ],
   "source": [
    "y_predict=nvclassifier.predict(x_test)\n",
    "print(y_predict)"
   ]
  },
  {
   "cell_type": "code",
   "execution_count": 10,
   "id": "b85d894b",
   "metadata": {},
   "outputs": [
    {
     "name": "stdout",
     "output_type": "stream",
     "text": [
      "[[19  0  0]\n",
      " [ 0 14  1]\n",
      " [ 0  1 15]]\n"
     ]
    }
   ],
   "source": [
    "from sklearn.metrics import confusion_matrix\n",
    "cm=confusion_matrix(y_test,y_predict)\n",
    "print(cm)"
   ]
  },
  {
   "cell_type": "code",
   "execution_count": 11,
   "id": "6514a713",
   "metadata": {},
   "outputs": [
    {
     "name": "stdout",
     "output_type": "stream",
     "text": [
      "Correct predictions: 48\n",
      "False predictions 2\n",
      "\n",
      "\n",
      "Accuracy of Naive Bayes classification is : 0.96\n"
     ]
    }
   ],
   "source": [
    "a=cm.shape\n",
    "corrPred=0\n",
    "falsepred=0\n",
    "for row in range(a[0]):\n",
    "    for c in range(a[1]):\n",
    "        if row==c:\n",
    "            corrPred+=cm[row,c]\n",
    "        else:\n",
    "            falsepred+=cm[row,c]\n",
    "print(\"Correct predictions:\",corrPred)\n",
    "print(\"False predictions\",falsepred)\n",
    "print(\"\\n\\nAccuracy of Naive Bayes classification is :\",corrPred/(cm.sum()))"
   ]
  },
  {
   "cell_type": "code",
   "execution_count": 12,
   "id": "50e4733c",
   "metadata": {},
   "outputs": [
    {
     "name": "stdout",
     "output_type": "stream",
     "text": [
      "              precision    recall  f1-score   support\n",
      "\n",
      "      setosa       1.00      1.00      1.00        19\n",
      "  versicolor       0.93      0.93      0.93        15\n",
      "   virginica       0.94      0.94      0.94        16\n",
      "\n",
      "    accuracy                           0.96        50\n",
      "   macro avg       0.96      0.96      0.96        50\n",
      "weighted avg       0.96      0.96      0.96        50\n",
      "\n"
     ]
    }
   ],
   "source": [
    "from sklearn.metrics import classification_report\n",
    "cr=classification_report(y_test,y_predict)\n",
    "print(cr)"
   ]
  },
  {
   "cell_type": "code",
   "execution_count": null,
   "id": "7f79efa0",
   "metadata": {},
   "outputs": [],
   "source": []
  }
 ],
 "metadata": {
  "kernelspec": {
   "display_name": "Python 3 (ipykernel)",
   "language": "python",
   "name": "python3"
  },
  "language_info": {
   "codemirror_mode": {
    "name": "ipython",
    "version": 3
   },
   "file_extension": ".py",
   "mimetype": "text/x-python",
   "name": "python",
   "nbconvert_exporter": "python",
   "pygments_lexer": "ipython3",
   "version": "3.8.5"
  }
 },
 "nbformat": 4,
 "nbformat_minor": 5
}
